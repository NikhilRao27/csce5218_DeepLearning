{
  "nbformat": 4,
  "nbformat_minor": 0,
  "metadata": {
    "colab": {
      "provenance": [],
      "authorship_tag": "ABX9TyMM/VhpV9EE6f4fdurp6uH1",
      "include_colab_link": true
    },
    "kernelspec": {
      "name": "python3",
      "display_name": "Python 3"
    },
    "language_info": {
      "name": "python"
    }
  },
  "cells": [
    {
      "cell_type": "markdown",
      "metadata": {
        "id": "view-in-github",
        "colab_type": "text"
      },
      "source": [
        "<a href=\"https://colab.research.google.com/github/NikhilRao27/csce5218_DeepLearning/blob/main/query_ranking.ipynb\" target=\"_parent\"><img src=\"https://colab.research.google.com/assets/colab-badge.svg\" alt=\"Open In Colab\"/></a>"
      ]
    },
    {
      "cell_type": "markdown",
      "source": [
        "Generating 10 text documents."
      ],
      "metadata": {
        "id": "X4G38G8dP5Tw"
      }
    },
    {
      "cell_type": "code",
      "execution_count": 210,
      "metadata": {
        "colab": {
          "base_uri": "https://localhost:8080/"
        },
        "id": "UZVa3FM4M1pt",
        "outputId": "73e2d1cc-8bbc-4202-f546-052b2b72c267"
      },
      "outputs": [
        {
          "output_type": "stream",
          "name": "stdout",
          "text": [
            "Overwriting d1.txt\n"
          ]
        }
      ],
      "source": [
        "%%writefile d1.txt\n",
        "The American Revolution spanned from 1775 to 1783 It was a struggle for independence\n",
        "from British rule led by influential\n",
        " figures such as George Washington and Thomas Jefferson\n",
        "The Declaration of Independence adopted in 1776 laid the foundation for the birth of a new nation built upon principles of freedom and democracy\n",
        "\n",
        "\n"
      ]
    },
    {
      "cell_type": "code",
      "source": [
        "%%writefile d2.txt\n",
        "The Louisiana Purchase in 1803 was a landmark event that doubled the size of the United States President Thomas Jefferson negotiated the deal with France acquiring vast territories west of the Mississippi River This expansion opened up new opportunities for exploration settlement and the eventual westward expansion that defined American growth throughout the 19th century\n"
      ],
      "metadata": {
        "colab": {
          "base_uri": "https://localhost:8080/"
        },
        "id": "BUU7x2LpO43f",
        "outputId": "d203451c-0162-45e6-d8b6-da5cab0ab55e"
      },
      "execution_count": 211,
      "outputs": [
        {
          "output_type": "stream",
          "name": "stdout",
          "text": [
            "Overwriting d2.txt\n"
          ]
        }
      ]
    },
    {
      "cell_type": "code",
      "source": [
        "%%writefile d3.txt\n",
        "The Civil War fought from 1861 to 1865 was a bloody conflict between the northern states Union and the southern states Confederacy over issues of slavery and states rights It resulted in the abolition of slavery with the Emancipation Proclamation and the preservation of the Union The wars impact on the nation was profound and set the stage for the Reconstruction era"
      ],
      "metadata": {
        "colab": {
          "base_uri": "https://localhost:8080/"
        },
        "id": "L-Mp8ebcPCK0",
        "outputId": "a7c3b25d-4bbd-48ff-8651-0414efaaccb5"
      },
      "execution_count": 212,
      "outputs": [
        {
          "output_type": "stream",
          "name": "stdout",
          "text": [
            "Overwriting d3.txt\n"
          ]
        }
      ]
    },
    {
      "cell_type": "code",
      "source": [
        "%%writefile d4.txt\n",
        "The Gilded Age a period from the late 19th to the early 20th century witnessed tremendous economic growth and industrialization in the United States This era was marked by the rise of powerful industrialists like Andrew Carnegie and John D Rockefeller as well as social and political challenges including labor movements and calls for reform"
      ],
      "metadata": {
        "colab": {
          "base_uri": "https://localhost:8080/"
        },
        "id": "kDgOwzSPPMY5",
        "outputId": "2f694666-bb42-4ac8-de1b-a7374f405660"
      },
      "execution_count": 213,
      "outputs": [
        {
          "output_type": "stream",
          "name": "stdout",
          "text": [
            "Overwriting d4.txt\n"
          ]
        }
      ]
    },
    {
      "cell_type": "code",
      "source": [
        "%%writefile d5.txt\n",
        "The Roaring Twenties also known as the Jazz Age was a time of cultural dynamism and societal change in the 1920s It saw the rise of the flapper culture the popularity of jazz music and significant advancements in technology However the decade ended with the stock market crash of 1929 triggering the Great Depression and a decade of economic hardship"
      ],
      "metadata": {
        "colab": {
          "base_uri": "https://localhost:8080/"
        },
        "id": "leDwx7e4PS9v",
        "outputId": "51fdb15b-17fd-4094-d4c0-0936ae277dd4"
      },
      "execution_count": 214,
      "outputs": [
        {
          "output_type": "stream",
          "name": "stdout",
          "text": [
            "Overwriting d5.txt\n"
          ]
        }
      ]
    },
    {
      "cell_type": "code",
      "source": [
        "%%writefile d6.txt\n",
        "World War II which lasted from 1939 to 1945 had a profound impact on the United States Following the attack on Pearl Harbor in 1941 America joined the Allies to fight against the Axis powers The war brought about industrial mobilization significant social changes and the emergence of the United States as a global superpower"
      ],
      "metadata": {
        "colab": {
          "base_uri": "https://localhost:8080/"
        },
        "id": "7aqucduTPV6G",
        "outputId": "1cdf037d-6dd0-494e-d2a0-d3184736d2de"
      },
      "execution_count": 215,
      "outputs": [
        {
          "output_type": "stream",
          "name": "stdout",
          "text": [
            "Overwriting d6.txt\n"
          ]
        }
      ]
    },
    {
      "cell_type": "code",
      "source": [
        "%%writefile d7.txt\n",
        "The Civil Rights Movement predominantly taking place in the 1950s and 1960s aimed to end racial segregation and discrimination against African Americans Activists like Martin Luther King Jr Rosa Parks and Malcolm X fought for equality and justice through nonviolent protests leading to landmark legislation such as the Civil Rights Act of 1964 and the Voting Rights Act of 1965"
      ],
      "metadata": {
        "colab": {
          "base_uri": "https://localhost:8080/"
        },
        "id": "au0IbpzgPZ2k",
        "outputId": "2645bd1c-6269-4486-f420-365e37323b8e"
      },
      "execution_count": 216,
      "outputs": [
        {
          "output_type": "stream",
          "name": "stdout",
          "text": [
            "Overwriting d7.txt\n"
          ]
        }
      ]
    },
    {
      "cell_type": "code",
      "source": [
        "%%writefile d8.txt\n",
        "The Space Race between the United States and the Soviet Union during the Cold War era had a transformative impact on American history With the successful Apollo 11 mission in 1969 America became the first nation to land astronauts on the moon symbolizing American technological prowess and advancing scientific exploration"
      ],
      "metadata": {
        "colab": {
          "base_uri": "https://localhost:8080/"
        },
        "id": "0uVyIo2PPZrG",
        "outputId": "2ffc3599-8c99-4729-a10e-57e0cc0303eb"
      },
      "execution_count": 217,
      "outputs": [
        {
          "output_type": "stream",
          "name": "stdout",
          "text": [
            "Overwriting d8.txt\n"
          ]
        }
      ]
    },
    {
      "cell_type": "code",
      "source": [
        "%%writefile d9.txt\n",
        "The Vietnam War which lasted from 1955 to 1975 was a highly controversial conflict that deeply divided the American public The wars impact was far-reaching with anti-war protests draft resistance and social unrest becoming defining features of the era The wars conclusion led to a reassessment of American foreign policy and a focus on domestic issues"
      ],
      "metadata": {
        "colab": {
          "base_uri": "https://localhost:8080/"
        },
        "id": "XxwZV8QuPZdx",
        "outputId": "17c524b3-e3e4-4ec7-c69c-26e7687a54aa"
      },
      "execution_count": 218,
      "outputs": [
        {
          "output_type": "stream",
          "name": "stdout",
          "text": [
            "Overwriting d9.txt\n"
          ]
        }
      ]
    },
    {
      "cell_type": "code",
      "source": [
        "%%writefile d10.txt\n",
        "The digital revolution of the late 20th century and the advent of the internet brought about transformative changes in American society This technological advancement revolutionized communication commerce and information sharing It shaped the way people live work and interact propelling the United States into the Information Age and fueling further advancements in science and technology"
      ],
      "metadata": {
        "colab": {
          "base_uri": "https://localhost:8080/"
        },
        "id": "KCKdcvE-PZNB",
        "outputId": "3b54ba2b-18aa-4b11-fbd4-d2e2a8f4414a"
      },
      "execution_count": 219,
      "outputs": [
        {
          "output_type": "stream",
          "name": "stdout",
          "text": [
            "Overwriting d10.txt\n"
          ]
        }
      ]
    },
    {
      "cell_type": "code",
      "source": [
        "stopwords = [\n",
        "    \"a\", \"an\", \"and\", \"are\", \"as\", \"at\", \"be\", \"by\", \"for\",\n",
        "    \"from\", \"has\", \"he\", \"in\", \"is\", \"it\", \"its\", \"of\", \"on\",\n",
        "    \"that\", \"the\", \"to\", \"was\", \"were\", \"will\", \"with\", \"you\",\"up\",\"this\"\n",
        "]"
      ],
      "metadata": {
        "id": "bo89Gu1yTrYn"
      },
      "execution_count": 220,
      "outputs": []
    },
    {
      "cell_type": "code",
      "source": [
        "# writing a function to preprocess\n",
        "\n",
        "def  preprocess_document(document):\n",
        "  d= document + \".txt\"\n",
        "  f= open(d)\n",
        "  y= f.read()\n",
        "  f.close()\n",
        "  list=y.split()\n",
        "  myset= set(list)\n",
        "\n",
        "  myset = {string.lower() for string in myset}\n",
        "  list=[string.lower() for string in list]\n",
        "  myset=myset.difference(stopwords)\n",
        "  #actual_words_wth_repeat.append(list)\n",
        "\n",
        "  return myset,list"
      ],
      "metadata": {
        "id": "wwctZtKbQAw6"
      },
      "execution_count": 221,
      "outputs": []
    },
    {
      "cell_type": "code",
      "source": [
        "# iterating over each document for preprocessing\n",
        "words=[]\n",
        "actual_words_wth_repeat =[]\n",
        "import math\n",
        "for i in range(10):\n",
        "    doc_name = \"d\"+ str(i+1)\n",
        "    #print(doc_name)\n",
        "    current_words,words_with_repeat = preprocess_document(doc_name)\n",
        "    words.append(current_words)\n",
        "    actual_words_wth_repeat.append(words_with_repeat)\n",
        "    #print(words[i])\n",
        "print(words)\n",
        "\n",
        "print(f\"The actual words of the doc are : {actual_words_wth_repeat}\")\n",
        ""
      ],
      "metadata": {
        "colab": {
          "base_uri": "https://localhost:8080/"
        },
        "id": "7NNMLk6IQ8Ho",
        "outputId": "4ad71db2-cda8-4f8e-a1a7-466dd389c744"
      },
      "execution_count": 222,
      "outputs": [
        {
          "output_type": "stream",
          "name": "stdout",
          "text": [
            "[{'principles', '1776', 'washington', '1783', 'laid', 'jefferson', 'figures', 'thomas', 'foundation', 'adopted', 'declaration', 'such', 'built', 'american', 'influential', 'rule', 'nation', 'upon', 'freedom', 'george', 'new', 'democracy', 'revolution', '1775', 'struggle', 'led', 'spanned', 'british', 'birth', 'independence'}, {'president', 'river', 'century', 'eventual', 'territories', 'doubled', 'jefferson', 'size', 'thomas', 'landmark', 'vast', 'states', 'growth', 'west', 'negotiated', 'united', '19th', 'mississippi', 'american', 'westward', 'opportunities', 'settlement', 'france', 'louisiana', 'new', 'opened', 'throughout', 'exploration', 'deal', '1803', 'event', 'expansion', 'acquiring', 'defined', 'purchase'}, {'1861', 'rights', 'between', 'confederacy', 'northern', 'over', 'war', 'proclamation', '1865', 'impact', 'states', 'emancipation', 'preservation', 'civil', 'conflict', 'nation', 'southern', 'bloody', 'slavery', 'era', 'fought', 'stage', 'resulted', 'union', 'abolition', 'wars', 'profound', 'set', 'reconstruction', 'issues'}, {'social', 'like', 'movements', 'industrialists', 'andrew', 'including', 'reform', 'industrialization', 'well', 'century', 'period', 'early', 'witnessed', 'd', 'states', 'growth', 'age', 'political', 'carnegie', 'economic', 'united', '19th', 'calls', 'john', 'tremendous', 'rockefeller', 'era', 'marked', 'rise', 'powerful', 'labor', 'late', 'gilded', 'challenges', '20th'}, {'roaring', 'triggering', '1929', 'hardship', 'also', 'known', 'technology', 'jazz', 'stock', 'flapper', 'great', 'cultural', 'time', 'popularity', 'significant', 'age', 'music', '1920s', 'economic', 'twenties', 'dynamism', 'advancements', 'crash', 'societal', 'culture', 'market', 'rise', 'ended', 'depression', 'saw', 'decade', 'change', 'however'}, {'social', 'industrial', 'attack', 'about', 'against', 'allies', 'lasted', 'harbor', 'world', 'had', '1939', 'war', 'changes', 'joined', 'impact', 'states', 'significant', 'brought', 'emergence', 'united', 'mobilization', 'axis', 'ii', 'which', 'pearl', 'following', 'america', 'superpower', 'profound', 'powers', 'global', '1945', 'fight', '1941'}, {'place', 'segregation', 'like', 'jr', 'rights', 'king', 'x', 'malcolm', 'discrimination', 'protests', 'martin', 'rosa', 'legislation', 'justice', 'against', 'parks', 'luther', 'movement', 'leading', 'americans', 'racial', 'equality', 'landmark', '1964', 'predominantly', 'through', 'act', 'such', 'civil', 'african', 'aimed', 'taking', 'fought', '1960s', 'activists', 'end', 'nonviolent', '1965', 'voting', '1950s'}, {'between', 'soviet', 'cold', 'mission', 'land', 'prowess', 'apollo', 'had', '11', 'advancing', 'war', '1969', 'impact', 'states', 'united', 'technological', 'american', 'successful', 'nation', 'became', 'transformative', 'scientific', 'history', 'era', 'moon', 'symbolizing', 'space', 'astronauts', 'during', 'america', 'union', 'exploration', 'race', 'first'}, {'social', 'reassessment', 'unrest', 'protests', 'anti-war', 'policy', 'focus', 'becoming', 'lasted', 'vietnam', 'war', 'foreign', 'impact', 'divided', '1975', 'deeply', 'conflict', 'american', '1955', 'draft', 'which', 'resistance', 'era', 'public', 'led', 'wars', 'conclusion', 'domestic', 'controversial', 'far-reaching', 'defining', 'highly', 'features', 'issues'}, {'internet', 'science', 'technology', 'about', 'sharing', 'century', 'advent', 'commerce', 'communication', 'changes', 'shaped', 'fueling', 'states', 'revolutionized', 'age', 'brought', 'united', 'information', 'people', 'technological', 'american', 'live', 'interact', 'advancements', 'transformative', 'society', 'way', 'propelling', 'digital', 'revolution', 'into', 'advancement', 'work', 'late', 'further', '20th'}]\n",
            "The actual words of the doc are : [['the', 'american', 'revolution', 'spanned', 'from', '1775', 'to', '1783', 'it', 'was', 'a', 'struggle', 'for', 'independence', 'from', 'british', 'rule', 'led', 'by', 'influential', 'figures', 'such', 'as', 'george', 'washington', 'and', 'thomas', 'jefferson', 'the', 'declaration', 'of', 'independence', 'adopted', 'in', '1776', 'laid', 'the', 'foundation', 'for', 'the', 'birth', 'of', 'a', 'new', 'nation', 'built', 'upon', 'principles', 'of', 'freedom', 'and', 'democracy'], ['the', 'louisiana', 'purchase', 'in', '1803', 'was', 'a', 'landmark', 'event', 'that', 'doubled', 'the', 'size', 'of', 'the', 'united', 'states', 'president', 'thomas', 'jefferson', 'negotiated', 'the', 'deal', 'with', 'france', 'acquiring', 'vast', 'territories', 'west', 'of', 'the', 'mississippi', 'river', 'this', 'expansion', 'opened', 'up', 'new', 'opportunities', 'for', 'exploration', 'settlement', 'and', 'the', 'eventual', 'westward', 'expansion', 'that', 'defined', 'american', 'growth', 'throughout', 'the', '19th', 'century'], ['the', 'civil', 'war', 'fought', 'from', '1861', 'to', '1865', 'was', 'a', 'bloody', 'conflict', 'between', 'the', 'northern', 'states', 'union', 'and', 'the', 'southern', 'states', 'confederacy', 'over', 'issues', 'of', 'slavery', 'and', 'states', 'rights', 'it', 'resulted', 'in', 'the', 'abolition', 'of', 'slavery', 'with', 'the', 'emancipation', 'proclamation', 'and', 'the', 'preservation', 'of', 'the', 'union', 'the', 'wars', 'impact', 'on', 'the', 'nation', 'was', 'profound', 'and', 'set', 'the', 'stage', 'for', 'the', 'reconstruction', 'era'], ['the', 'gilded', 'age', 'a', 'period', 'from', 'the', 'late', '19th', 'to', 'the', 'early', '20th', 'century', 'witnessed', 'tremendous', 'economic', 'growth', 'and', 'industrialization', 'in', 'the', 'united', 'states', 'this', 'era', 'was', 'marked', 'by', 'the', 'rise', 'of', 'powerful', 'industrialists', 'like', 'andrew', 'carnegie', 'and', 'john', 'd', 'rockefeller', 'as', 'well', 'as', 'social', 'and', 'political', 'challenges', 'including', 'labor', 'movements', 'and', 'calls', 'for', 'reform'], ['the', 'roaring', 'twenties', 'also', 'known', 'as', 'the', 'jazz', 'age', 'was', 'a', 'time', 'of', 'cultural', 'dynamism', 'and', 'societal', 'change', 'in', 'the', '1920s', 'it', 'saw', 'the', 'rise', 'of', 'the', 'flapper', 'culture', 'the', 'popularity', 'of', 'jazz', 'music', 'and', 'significant', 'advancements', 'in', 'technology', 'however', 'the', 'decade', 'ended', 'with', 'the', 'stock', 'market', 'crash', 'of', '1929', 'triggering', 'the', 'great', 'depression', 'and', 'a', 'decade', 'of', 'economic', 'hardship'], ['world', 'war', 'ii', 'which', 'lasted', 'from', '1939', 'to', '1945', 'had', 'a', 'profound', 'impact', 'on', 'the', 'united', 'states', 'following', 'the', 'attack', 'on', 'pearl', 'harbor', 'in', '1941', 'america', 'joined', 'the', 'allies', 'to', 'fight', 'against', 'the', 'axis', 'powers', 'the', 'war', 'brought', 'about', 'industrial', 'mobilization', 'significant', 'social', 'changes', 'and', 'the', 'emergence', 'of', 'the', 'united', 'states', 'as', 'a', 'global', 'superpower'], ['the', 'civil', 'rights', 'movement', 'predominantly', 'taking', 'place', 'in', 'the', '1950s', 'and', '1960s', 'aimed', 'to', 'end', 'racial', 'segregation', 'and', 'discrimination', 'against', 'african', 'americans', 'activists', 'like', 'martin', 'luther', 'king', 'jr', 'rosa', 'parks', 'and', 'malcolm', 'x', 'fought', 'for', 'equality', 'and', 'justice', 'through', 'nonviolent', 'protests', 'leading', 'to', 'landmark', 'legislation', 'such', 'as', 'the', 'civil', 'rights', 'act', 'of', '1964', 'and', 'the', 'voting', 'rights', 'act', 'of', '1965'], ['the', 'space', 'race', 'between', 'the', 'united', 'states', 'and', 'the', 'soviet', 'union', 'during', 'the', 'cold', 'war', 'era', 'had', 'a', 'transformative', 'impact', 'on', 'american', 'history', 'with', 'the', 'successful', 'apollo', '11', 'mission', 'in', '1969', 'america', 'became', 'the', 'first', 'nation', 'to', 'land', 'astronauts', 'on', 'the', 'moon', 'symbolizing', 'american', 'technological', 'prowess', 'and', 'advancing', 'scientific', 'exploration'], ['the', 'vietnam', 'war', 'which', 'lasted', 'from', '1955', 'to', '1975', 'was', 'a', 'highly', 'controversial', 'conflict', 'that', 'deeply', 'divided', 'the', 'american', 'public', 'the', 'wars', 'impact', 'was', 'far-reaching', 'with', 'anti-war', 'protests', 'draft', 'resistance', 'and', 'social', 'unrest', 'becoming', 'defining', 'features', 'of', 'the', 'era', 'the', 'wars', 'conclusion', 'led', 'to', 'a', 'reassessment', 'of', 'american', 'foreign', 'policy', 'and', 'a', 'focus', 'on', 'domestic', 'issues'], ['the', 'digital', 'revolution', 'of', 'the', 'late', '20th', 'century', 'and', 'the', 'advent', 'of', 'the', 'internet', 'brought', 'about', 'transformative', 'changes', 'in', 'american', 'society', 'this', 'technological', 'advancement', 'revolutionized', 'communication', 'commerce', 'and', 'information', 'sharing', 'it', 'shaped', 'the', 'way', 'people', 'live', 'work', 'and', 'interact', 'propelling', 'the', 'united', 'states', 'into', 'the', 'information', 'age', 'and', 'fueling', 'further', 'advancements', 'in', 'science', 'and', 'technology']]\n"
          ]
        }
      ]
    },
    {
      "cell_type": "code",
      "source": [
        "#calculate the term frequency in a document\n",
        "def calculate_term_frequency(document, term,index):\n",
        "    return actual_words_wth_repeat[index].count(term)\n"
      ],
      "metadata": {
        "id": "8iVsUdaFbhmU"
      },
      "execution_count": 223,
      "outputs": []
    },
    {
      "cell_type": "code",
      "source": [
        "# Calculate maximum term frequency (max_tf) in a document\n",
        "def calculate_max_term_frequency(document,index):\n",
        "    word_counts = {}\n",
        "    for word in actual_words_wth_repeat[index]:\n",
        "        if(word in document):\n",
        "          word_counts[word] = word_counts.get(word, 0) + 1\n",
        "    #print(word_counts)\n",
        "    #print(max(word_counts.values()))\n",
        "    return max(word_counts.values())"
      ],
      "metadata": {
        "id": "tgf3NJFEmr3U"
      },
      "execution_count": 224,
      "outputs": []
    },
    {
      "cell_type": "code",
      "source": [
        "# Calculate document frequency (df) for a term across all documents\n",
        "def calculate_document_frequency(term, documents):\n",
        "    count = sum(1 for document in documents if term in document)\n",
        "    return count"
      ],
      "metadata": {
        "id": "Dz_pvuLdpegG"
      },
      "execution_count": 225,
      "outputs": []
    },
    {
      "cell_type": "code",
      "source": [
        "# function to calculate the term weight , in each document\n",
        "def calculate_term_weight(term, document, documents,index):\n",
        "    tf = calculate_term_frequency(document, term,index)\n",
        "    max_tf = calculate_max_term_frequency(document,index)\n",
        "    df = calculate_document_frequency(term, documents)\n",
        "    N = len(documents)\n",
        "    if df>0:\n",
        "       weight = (0.5 + 0.5 * tf / max_tf) * math.log(N / df)\n",
        "    elif df==0:  # scenario where the query term is not present in document.\n",
        "      weight = 0\n",
        "    return weight\n"
      ],
      "metadata": {
        "id": "HGl8_9wWmaYS"
      },
      "execution_count": 226,
      "outputs": []
    },
    {
      "cell_type": "code",
      "source": [
        "# processing the query given as input by the user\n",
        "\n",
        "\n",
        "def process_query(query, documents):\n",
        "\n",
        "    query = query.replace(\".\", \"\").replace(\",\", \"\").replace(\"(\", \"\").replace(\")\", \"\")\n",
        "    query_words = query.lower().split()\n",
        "    document_weights = []\n",
        "\n",
        "    for index,document in enumerate(documents):\n",
        "        weights = [calculate_term_weight(term, document, documents,index) for term in query_words]\n",
        "        document_weights.append(sum(weights))\n",
        "    ranked_documents = sorted(range(len(document_weights)), key=lambda k: document_weights[k], reverse=True)\n",
        "    return ranked_documents"
      ],
      "metadata": {
        "id": "cspsKnhlYcx1"
      },
      "execution_count": 227,
      "outputs": []
    },
    {
      "cell_type": "code",
      "source": [
        "# asking for a query\n",
        "\n",
        "while True:\n",
        "        query = input(\"Enter your query related to US history, sample queries are Vietnam war, american revolution(or 'exit' to quit): \")\n",
        "        if query.lower() == \"exit\":\n",
        "            break\n",
        "        ranked_documents = process_query(query, words)\n",
        "\n",
        "        print(\"Ranked Documents:\")\n",
        "        for rank, document_index in enumerate(ranked_documents):\n",
        "               print(f\"Rank {rank+1}: Document {document_index+1}\")\n",
        "               print(\" \".join(actual_words_wth_repeat[document_index]),\"\\n\\n\")\n",
        "\n",
        "\n",
        "        print(\"the query results are provided \\n\\n\\n -------------------------------------------------------------------- \")"
      ],
      "metadata": {
        "colab": {
          "base_uri": "https://localhost:8080/"
        },
        "id": "LmUmzjy-XVu-",
        "outputId": "fb54ee7c-461d-4333-8a77-43bbb05ac623"
      },
      "execution_count": 229,
      "outputs": [
        {
          "name": "stdout",
          "output_type": "stream",
          "text": [
            "Enter your query related to US history, sample queries are Vietnam war, american revolution(or 'exit' to quit): americal revolution\n",
            "Ranked Documents:\n",
            "Rank 1: Document 1\n",
            "the american revolution spanned from 1775 to 1783 it was a struggle for independence from british rule led by influential figures such as george washington and thomas jefferson the declaration of independence adopted in 1776 laid the foundation for the birth of a new nation built upon principles of freedom and democracy \n",
            "\n",
            "\n",
            "Rank 2: Document 10\n",
            "the digital revolution of the late 20th century and the advent of the internet brought about transformative changes in american society this technological advancement revolutionized communication commerce and information sharing it shaped the way people live work and interact propelling the united states into the information age and fueling further advancements in science and technology \n",
            "\n",
            "\n",
            "Rank 3: Document 2\n",
            "the louisiana purchase in 1803 was a landmark event that doubled the size of the united states president thomas jefferson negotiated the deal with france acquiring vast territories west of the mississippi river this expansion opened up new opportunities for exploration settlement and the eventual westward expansion that defined american growth throughout the 19th century \n",
            "\n",
            "\n",
            "Rank 4: Document 3\n",
            "the civil war fought from 1861 to 1865 was a bloody conflict between the northern states union and the southern states confederacy over issues of slavery and states rights it resulted in the abolition of slavery with the emancipation proclamation and the preservation of the union the wars impact on the nation was profound and set the stage for the reconstruction era \n",
            "\n",
            "\n",
            "Rank 5: Document 4\n",
            "the gilded age a period from the late 19th to the early 20th century witnessed tremendous economic growth and industrialization in the united states this era was marked by the rise of powerful industrialists like andrew carnegie and john d rockefeller as well as social and political challenges including labor movements and calls for reform \n",
            "\n",
            "\n",
            "Rank 6: Document 5\n",
            "the roaring twenties also known as the jazz age was a time of cultural dynamism and societal change in the 1920s it saw the rise of the flapper culture the popularity of jazz music and significant advancements in technology however the decade ended with the stock market crash of 1929 triggering the great depression and a decade of economic hardship \n",
            "\n",
            "\n",
            "Rank 7: Document 6\n",
            "world war ii which lasted from 1939 to 1945 had a profound impact on the united states following the attack on pearl harbor in 1941 america joined the allies to fight against the axis powers the war brought about industrial mobilization significant social changes and the emergence of the united states as a global superpower \n",
            "\n",
            "\n",
            "Rank 8: Document 7\n",
            "the civil rights movement predominantly taking place in the 1950s and 1960s aimed to end racial segregation and discrimination against african americans activists like martin luther king jr rosa parks and malcolm x fought for equality and justice through nonviolent protests leading to landmark legislation such as the civil rights act of 1964 and the voting rights act of 1965 \n",
            "\n",
            "\n",
            "Rank 9: Document 8\n",
            "the space race between the united states and the soviet union during the cold war era had a transformative impact on american history with the successful apollo 11 mission in 1969 america became the first nation to land astronauts on the moon symbolizing american technological prowess and advancing scientific exploration \n",
            "\n",
            "\n",
            "Rank 10: Document 9\n",
            "the vietnam war which lasted from 1955 to 1975 was a highly controversial conflict that deeply divided the american public the wars impact was far-reaching with anti-war protests draft resistance and social unrest becoming defining features of the era the wars conclusion led to a reassessment of american foreign policy and a focus on domestic issues \n",
            "\n",
            "\n",
            "the query results are provided \n",
            "\n",
            "\n",
            " -------------------------------------------------------------------- \n",
            "Enter your query related to US history, sample queries are Vietnam war, american revolution(or 'exit' to quit): exit\n"
          ]
        }
      ]
    }
  ]
}